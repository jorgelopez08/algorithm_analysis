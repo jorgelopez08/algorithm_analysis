{
 "cells": [
  {
   "cell_type": "markdown",
   "metadata": {},
   "source": [
    "# Documentación Proyecto final: programa de creación de horarios de forma eficiente"
   ]
  },
  {
   "cell_type": "markdown",
   "metadata": {},
   "source": [
    "15/11/2023\n",
    "\n",
    "**Primero lo que hice fue** la creación de clases y estructuras con sus atributos para cada uno de los objetos que ibamos a guardar, en este caso, profesores, aulas, cursos, secciones y los horarios."
   ]
  },
  {
   "cell_type": "code",
   "execution_count": null,
   "metadata": {},
   "outputs": [],
   "source": [
    "import networkx as nx\n",
    "import json\n",
    "import matplotlib.pyplot as plt\n",
    "\n",
    "#profesores\n",
    "class Profesor:\n",
    "    def __init__(self, id_profesor, nombre, horarios_disp):\n",
    "        self.id = id_profesor\n",
    "        self.nombre = nombre\n",
    "        self.horarios_disp = horarios_disp\n",
    "\n",
    "#cursos\n",
    "class Curso:\n",
    "    def __init__(self, id_curso, nombre, horas, lab, profe_disp, capacidad):\n",
    "        self.id = id_curso\n",
    "        self.nombre = nombre\n",
    "        self.horas = horas\n",
    "        self.lab = lab\n",
    "        self.profe_disp = profe_disp\n",
    "        self.capacidad = capacidad\n",
    "\n",
    "#Aulas\n",
    "class Aula:\n",
    "    def __init__(self, numero, edificio, lab, capacidad, horarios_disp):\n",
    "        self.numero = numero\n",
    "        self.edificio = edificio\n",
    "        self.lab = lab\n",
    "        self.capacidad = capacidad\n",
    "        self.horarios_disp = horarios_disp\n",
    "\n",
    "#secciones\n",
    "class Seccion:\n",
    "    def __init__(self, id_seccion, profesor_asignado, horario, dias, curso):\n",
    "        self.id = id_seccion\n",
    "        self.profesor_asignado = profesor_asignado\n",
    "        self.horario = horario\n",
    "        self.dias = dias\n",
    "        self.curso = curso\n",
    "\n",
    "# Cargar datos JSON\n",
    "with open('Datos.json', 'r', encoding='utf-8') as file:\n",
    "    datos = json.load(file)"
   ]
  },
  {
   "cell_type": "markdown",
   "metadata": {},
   "source": [
    "Después de buscar e investigar los algoritmos que me podrían funcionar, decidí utilizar un grafo bipartito que conectara los profesores con las clases o materias que podian impartir, esto ya que así podía vincularlos sin estar conectados entre sí cada conjunto, esto para que tambien pudiera iterar en cada conjunto y hacer busquedas o editar datos de cada elemento de forma más sencilla. Para esto utilicé dos librerías, una sería matplotlib y la otra networkx, la primera se encarga de graficarlo y la segunda me ayuda a agreegar nodos, arista y editar el grafo de forma más sencilla"
   ]
  },
  {
   "cell_type": "code",
   "execution_count": null,
   "metadata": {},
   "outputs": [],
   "source": [
    "#función para generar grafo bipartito\n",
    "def generar_grafo_bipartito(datos):\n",
    "    grafo = nx.Graph()\n",
    "    \n",
    "    #conjunto de datos 'Cursos'\n",
    "    cursos = datos[\"Datos\"][2][\"Curso\"]\n",
    "    #se crea un nodo por cada elemento del conjunto\n",
    "    for curso in cursos:\n",
    "        id_curso = curso[\"ID\"]\n",
    "        grafo.add_node(id_curso, bipartite=0, tipo=\"Curso\")\n",
    "\n",
    "    # Conjunto de datos 'Profesores'\n",
    "    profesores = datos[\"Datos\"][0][\"Profesor\"]\n",
    "    #se crea un nodo por cada elemento del conjunto\n",
    "    for profesor in profesores:\n",
    "        nombre_profesor = profesor['Nombre']\n",
    "        grafo.add_node(nombre_profesor, bipartite=1, tipo=\"Profesor\")\n",
    "\n",
    "    # Agregar aristas al grafo dependiendo cuales profesores estan disponibles para cada materia\n",
    "    for curso in cursos:\n",
    "        for profesor in profesores:\n",
    "            nombre_profesor = profesor['Nombre']\n",
    "            #si el profesor está disponible en ese curso, se crea una arista que los conecta\n",
    "            if nombre_profesor in curso[\"Profesores disponibles\"]:\n",
    "                id_curso = curso[\"ID\"]\n",
    "                grafo.add_edge(nombre_profesor, id_curso)\n",
    "\n",
    "    return grafo"
   ]
  },
  {
   "cell_type": "markdown",
   "metadata": {},
   "source": [
    "Esta función me genera los nodos y de cada conjunto y después los conecta con aristas con el parametro si dan la clase o no"
   ]
  },
  {
   "cell_type": "code",
   "execution_count": null,
   "metadata": {},
   "outputs": [],
   "source": [
    "def nodos(grafo_bipartito):\n",
    "    # esto colorea los nodos de tipo curso de color azul y los demás de rojo\n",
    "    colores = ['blue' if grafo_bipartito.nodes[nodo]['tipo'] == 'Curso' else 'red' for nodo in grafo_bipartito.nodes()]\n",
    "\n",
    "    # Dibujar el grafo coloreado\n",
    "    pos = nx.spring_layout(grafo_bipartito)\n",
    "    nx.draw(grafo_bipartito, pos, with_labels=True, font_weight='bold', node_color=colores, cmap=plt.cm.rainbow)\n",
    "    plt.show()\n",
    "\n",
    "# Generar el grafo bipartito\n",
    "grafo_bipartito = generar_grafo_bipartito(datos)\n",
    "\n",
    "#dibuja el grafo\n",
    "nodos(grafo_bipartito)"
   ]
  },
  {
   "cell_type": "markdown",
   "metadata": {},
   "source": [
    "por ultimo hice una función que itera en los datos del json para mostrar en pantalla los datos de cada profesor, esta función la haré en cada uno de los diccionarios de json"
   ]
  },
  {
   "cell_type": "code",
   "execution_count": null,
   "metadata": {},
   "outputs": [],
   "source": [
    "#muestra todos los profesores disponibles\n",
    "def mostrarprofesor():\n",
    "    if 'Profesor' in datos['Datos'][0]:\n",
    "        profesores = datos[\"Datos\"][0][\"Profesor\"]\n",
    "        print('PROFESORES ->')\n",
    "        for profesor in profesores:\n",
    "            print(f\" ID: {profesor['id']},\\n Nombre: {profesor['Nombre']}, \\n Horarios disponibles: \")\n",
    "            for horario in profesor['Horarios Disponibles']:\n",
    "                print(f'    - {horario}')\n",
    "                \n",
    "        else: return print(\"No hay profesores en los datos.\")\n",
    "    else: print(\"No hay información sobre profesores en el archivo.\")"
   ]
  },
  {
   "cell_type": "markdown",
   "metadata": {},
   "source": [
    "19/11/2023\n",
    "\n",
    "Despues lo que hice fue mover las funciones del grafo y agregar una clase llamada bipartito, esto para poder agregar nodos de profesor y curso desde esta clase y las funciones se convirtieron en métodos de la clase"
   ]
  },
  {
   "cell_type": "code",
   "execution_count": null,
   "metadata": {},
   "outputs": [],
   "source": [
    "#Grafo bipartito\n",
    "class Bipartito:\n",
    "    def __init__(self,grafo):\n",
    "        self.grafo = self.generar_grafo_bipartito(datos)\n",
    "\n",
    "    #muestra todos los profesores disponibles\n",
    "    def mostrarprofesores(self):\n",
    "        if 'Profesor' in datos['Datos'][0]:\n",
    "            profesores = datos[\"Datos\"][0][\"Profesor\"]\n",
    "            print('PROFESORES ->')\n",
    "            for profesor in profesores:\n",
    "                print(f\" ID: {profesor['id']}\\n Nombre: {profesor['Nombre']}\\n Horarios disponibles: \")\n",
    "                for horario in profesor['Horarios Disponibles']:\n",
    "                    print(f'    - {horario}')\n",
    "                print('')\n",
    "        else: print(\"No hay información de profesores\")\n",
    "\n",
    "    def buscarprofe(self):\n",
    "        pass\n",
    "\n",
    "    def agregarprofe(self):\n",
    "        pass\n",
    "\n",
    "    def borrarprofe(self):\n",
    "        pass\n",
    "\n",
    "    #muestra los cursos disponibles\n",
    "    def mostrarCursos(self):\n",
    "        if 'Curso' in datos['Datos'][2]:\n",
    "            cursos = datos['Datos'][2]['Curso']\n",
    "            print('Cursos ->')\n",
    "            for curso in cursos:\n",
    "                print(f\" ID: {curso['ID']}\\n Nombre: {curso['Nombre']}\\n Horas por semana -> {curso['Cantidad de horas']}\\n Laboratorio: {curso['Uso de laboratorio']}\")\n",
    "                for profesor in curso['Profesores disponibles']:\n",
    "                    print(f'    - {profesor}')\n",
    "                print(f\" Capacidad máxima de alumnos: {curso['Cantidad máxima de alumnos']}\\n\")\n",
    "        else: print(\"No hay información de los cursos\")\n",
    "\n",
    "    #función para generar grafo bipartito\n",
    "    def generar_grafo_bipartito(self, datos):\n",
    "        grafo = nx.Graph()\n",
    "        \n",
    "        #conjunto de datos 'Cursos'\n",
    "        cursos = datos[\"Datos\"][2][\"Curso\"]\n",
    "        #se crea un nodo por cada elemento del conjunto\n",
    "        for curso in cursos:\n",
    "            id_curso = curso[\"ID\"]\n",
    "            grafo.add_node(id_curso, bipartite=0, tipo=\"Curso\")\n",
    "\n",
    "        # Conjunto de datos 'Profesores'\n",
    "        profesores = datos[\"Datos\"][0][\"Profesor\"]\n",
    "        #se crea un nodo por cada elemento del conjunto\n",
    "        for profesor in profesores:\n",
    "            nombre_profesor = profesor['Nombre']\n",
    "            grafo.add_node(nombre_profesor, bipartite=1, tipo=\"Profesor\")\n",
    "\n",
    "        # Agregar aristas al grafo dependiendo cuales profesores estan disponibles para cada materia\n",
    "        for curso in cursos:\n",
    "            for profesor in profesores:\n",
    "                nombre_profesor = profesor['Nombre']\n",
    "                #si el profesor está disponible en ese curso, se crea una arista que los conecta\n",
    "                if nombre_profesor in curso[\"Profesores disponibles\"]:\n",
    "                    id_curso = curso[\"ID\"]\n",
    "                    grafo.add_edge(nombre_profesor, id_curso)\n",
    "        return grafo\n",
    "\n",
    "    def mostrar_nodos(self):\n",
    "        # esto colorea los nodos de tipo curso de color azul y los demás de rojo\n",
    "        colores = ['blue' if self.grafo.nodes[nodo]['tipo'] == 'Curso' else 'red' for nodo in self.grafo.nodes()]\n",
    "        # Dibujar el grafo coloreado\n",
    "        pos = nx.circular_layout(self.grafo)\n",
    "        nx.draw(self.grafo, pos, with_labels=True, font_weight='bold', node_color=colores)\n",
    "        plt.show()"
   ]
  },
  {
   "cell_type": "markdown",
   "metadata": {},
   "source": [
    "Además agregué una función main para llamar a todas las funciones"
   ]
  },
  {
   "cell_type": "code",
   "execution_count": null,
   "metadata": {},
   "outputs": [],
   "source": [
    "if __name__ == \"__main__\":\n",
    "    # Aquí deberías cargar tus datos desde el archivo JSON\n",
    "    archivo_json = \"datos2.json\"\n",
    "    with open(archivo_json, 'r', encoding='utf-8') as file:\n",
    "        datos = json.load(file)\n",
    "\n",
    "    grafo1 = Bipartito(datos)\n",
    "    grafo1.mostrarprofesores()\n",
    "    grafo1.mostrarCursos()\n",
    "    grafo1.mostrar_nodos()"
   ]
  },
  {
   "cell_type": "markdown",
   "metadata": {},
   "source": [
    "Por último implementé los métodos de buscar profesor, buscar curso y el de generar horarios"
   ]
  },
  {
   "cell_type": "code",
   "execution_count": null,
   "metadata": {},
   "outputs": [],
   "source": [
    "def buscarProfe(self):\n",
    "        # Obtener la lista de profesores del archivo JSON\n",
    "        profesores = datos[\"Datos\"][0][\"Profesor\"]\n",
    "\n",
    "        nombre_profesor = str(input('Qué profesor buscas? -> '))\n",
    "\n",
    "        for profesor in profesores:\n",
    "            if nombre_profesor.upper() in profesor['Nombre'].upper():\n",
    "                print(f\" ID: {profesor['id']}\\n Nombre: {profesor['Nombre']}\\n Horarios disponibles: {profesor['Horarios Disponibles']}\")\n",
    "                return\n",
    "        print(f\"No se encontró ningún profesor con el nombre '{nombre_profesor}'.\")\n",
    "        self.buscarProfe()"
   ]
  }
 ],
 "metadata": {
  "kernelspec": {
   "display_name": "Python 3",
   "language": "python",
   "name": "python3"
  },
  "language_info": {
   "codemirror_mode": {
    "name": "ipython",
    "version": 3
   },
   "file_extension": ".py",
   "mimetype": "text/x-python",
   "name": "python",
   "nbconvert_exporter": "python",
   "pygments_lexer": "ipython3",
   "version": "3.11.0"
  }
 },
 "nbformat": 4,
 "nbformat_minor": 2
}
